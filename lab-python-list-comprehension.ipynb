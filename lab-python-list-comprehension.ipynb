{
 "cells": [
  {
   "cell_type": "markdown",
   "id": "25d7736c-ba17-4aff-b6bb-66eba20fbf4e",
   "metadata": {},
   "source": [
    "# Lab | List, Dict and Set Comprehension"
   ]
  },
  {
   "cell_type": "markdown",
   "id": "7dd3cbde-675a-4b81-92c3-f728846dbe06",
   "metadata": {},
   "source": [
    "## Exercise: Managing Customer Orders Optimized with Comprehension"
   ]
  },
  {
   "cell_type": "markdown",
   "id": "5d500160-2fb7-4777-b5e4-09d45ebaf328",
   "metadata": {},
   "source": [
    "In the previous exercise, you developed a program to manage customer orders and inventory. Now, let's take it a step further and incorporate comprehension into your code.\n",
    "\n",
    "Follow the steps below to complete the exercise:\n",
    "\n",
    "1. Review your code from the previous exercise and identify areas where you can apply comprehension to simplify and streamline your code. \n",
    "\n",
    "    - *Hint: Apply it to initialize inventory, updating the inventory and printing the updated inventory.*\n",
    "    \n",
    "    - For example, in initializing the inventory, we could have:\n",
    "    \n",
    "        ```python\n",
    "        def initialize_inventory(products):\n",
    "            inventory = {product: int(input(f\"Enter the quantity of {product}s available: \")) for product in products}\n",
    "            return inventory\n",
    "\n",
    "        ```\n",
    "<br>\n",
    "    \n",
    "    \n",
    "2. Modify the function get_customer_orders so it prompts the user to enter the number of customer orders and gathers the product names using a loop and user input. Use comprehension.\n",
    "\n",
    "3. Add a new function to calculate the total price of the customer order. For each product in customer_orders, prompt the user to enter the price of that product. Use comprehension to calculate the total price. Note: assume that the user can only have 1 unit of each product.\n",
    "\n",
    "4. Modify the update_inventory function to remove the product from the inventory if its quantity becomes zero after fulfilling the customer orders. Use comprehension to filter out the products with a quantity of zero from the inventory.\n",
    "\n",
    "5. Print the total price of the customer order.\n",
    "\n",
    "Your code should produce output similar to the following:\n",
    "\n",
    "```python\n",
    "Enter the quantity of t-shirts available:  5\n",
    "Enter the quantity of mugs available:  4\n",
    "Enter the quantity of hats available:  3\n",
    "Enter the quantity of books available:  2\n",
    "Enter the quantity of keychains available:  1\n",
    "Enter the number of customer orders:  2\n",
    "Enter the name of a product that a customer wants to order:  hat\n",
    "Enter the name of a product that a customer wants to order:  keychain\n",
    "\n",
    "Order Statistics:\n",
    "Total Products Ordered: 2\n",
    "Percentage of Unique Products Ordered: 40.0\n",
    "\n",
    "Updated Inventory:\n",
    "t-shirt: 5\n",
    "mug: 4\n",
    "hat: 2\n",
    "book: 2\n",
    "Enter the price of keychain:  5\n",
    "Enter the price of hat:  10\n",
    "Total Price: 15.0\n",
    "\n",
    "```\n"
   ]
  },
  {
   "cell_type": "code",
   "execution_count": 27,
   "id": "8253b5c3",
   "metadata": {},
   "outputs": [
    {
     "name": "stdout",
     "output_type": "stream",
     "text": [
      "Number of t-shirts available: 2\n",
      "Number of mugs available: 1\n",
      "Number of hats available: 2\n",
      "Number of books available: 1\n",
      "Number of keychains available: 1\n",
      "how many products do you wish for:1\n",
      "Enter the name of your product book\n"
     ]
    }
   ],
   "source": [
    "p = [\"t-shirt\", \"mug\", \"hat\", \"book\", \"keychain\"]\n",
    "inventory=initialize_inventory(p)\n",
    "customer_orders=get_customer_orders(p)\n"
   ]
  },
  {
   "cell_type": "code",
   "execution_count": 29,
   "id": "9cfe72a2",
   "metadata": {},
   "outputs": [],
   "source": [
    "def initialize_inventory(products):\n",
    "    \"\"\"\n",
    "    initialize_inventory that takes products as a parameter. \n",
    "    Inside the function, implement the code for initializing the inventory dictionary using a loop and user input\n",
    "    \n",
    "    \"\"\"\n",
    "    \n",
    "    inventory = {product: int(input(f'Number of {product}s available: ')) for product in products }\n",
    "    \n",
    "    return inventory\n",
    "\n",
    "\n",
    "def get_customer_orders(products):\n",
    "    \"\"\"\n",
    "    Inside the function, implement the code for prompting the user to enter the product names using a loop.\n",
    "    The function should return the customer_orders set.\n",
    "    \"\"\"\n",
    "    \n",
    "    \n",
    "    customer_orders = set() # create customer cart\n",
    "    customer_orders={input('Enter the name of your product ') for products in range(1,1+(int(input('how many products do you wish for:'))))}\n",
    "    return customer_orders\n",
    "\n",
    "def update_inventory(customer_orders,inventory):\n",
    "    \"\"\"Inside the function, implement the code for updating the inventory dictionary based on the customer orders.\"\"\"\n",
    "    inventory_local = inventory.copy()\n",
    "    for product in customer_orders:\n",
    "        inventory_local[product]-=1\n",
    "        if inventory_local[product]==0:\n",
    "            inventory_local.remove(product)\n",
    "    return inventory_local"
   ]
  },
  {
   "cell_type": "code",
   "execution_count": 30,
   "id": "7bcaf9fc",
   "metadata": {},
   "outputs": [
    {
     "ename": "AttributeError",
     "evalue": "'dict' object has no attribute 'remove'",
     "output_type": "error",
     "traceback": [
      "\u001b[0;31m---------------------------------------------------------------------------\u001b[0m",
      "\u001b[0;31mAttributeError\u001b[0m                            Traceback (most recent call last)",
      "Cell \u001b[0;32mIn[30], line 1\u001b[0m\n\u001b[0;32m----> 1\u001b[0m inventory\u001b[38;5;241m=\u001b[39mupdate_inventory(customer_orders,inventory)\n\u001b[1;32m      2\u001b[0m inventory\n",
      "Cell \u001b[0;32mIn[29], line 30\u001b[0m, in \u001b[0;36mupdate_inventory\u001b[0;34m(customer_orders, inventory)\u001b[0m\n\u001b[1;32m     28\u001b[0m     inventory_local[product]\u001b[38;5;241m-\u001b[39m\u001b[38;5;241m=\u001b[39m\u001b[38;5;241m1\u001b[39m\n\u001b[1;32m     29\u001b[0m     \u001b[38;5;28;01mif\u001b[39;00m inventory_local[product]\u001b[38;5;241m==\u001b[39m\u001b[38;5;241m0\u001b[39m:\n\u001b[0;32m---> 30\u001b[0m         inventory_local\u001b[38;5;241m.\u001b[39mremove(product)\n\u001b[1;32m     31\u001b[0m \u001b[38;5;28;01mreturn\u001b[39;00m inventory_local\n",
      "\u001b[0;31mAttributeError\u001b[0m: 'dict' object has no attribute 'remove'"
     ]
    }
   ],
   "source": [
    "inventory=update_inventory(customer_orders,inventory)\n",
    "inventory"
   ]
  },
  {
   "cell_type": "code",
   "execution_count": null,
   "id": "296e6020",
   "metadata": {},
   "outputs": [],
   "source": [
    "\n",
    "\n",
    "def update_inventory(customer_orders,inventory):\n",
    "    \"\"\"Inside the function, implement the code for updating the inventory dictionary based on the customer orders.\"\"\"\n",
    "    inventory_local = inventory.copy()\n",
    "    for product in customer_orders:\n",
    "        inventory_local[product]-=1\n",
    "    return inventory_local\n",
    "\n",
    "def update_inventory_using_global(customer_orders,inventory):\n",
    "    \"\"\"Inside the function, implement the code for updating the inventory dictionary based on the customer orders.\"\"\"\n",
    "    for product in customer_orders:\n",
    "        inventory[product]-=1\n",
    "        \n",
    "\n",
    "def calculate_order_statistics(customer_orders,inventory):\n",
    "    \"\"\"Inside the function, implement the code for calculating the order statistics \n",
    "    (total products ordered, and percentage of unique products ordered). The function should return these values.\"\"\"\n",
    "    total_products = len(customer_orders)\n",
    "    percentage_unique_products = sum(inventory.values())\n",
    "    return total_products,percentage_unique_products\n",
    "\n",
    "def print_order_statistics(statistics_tuple):\n",
    "    \"\"\"\n",
    "    Inside the function, implement the code for printing the order statistics.\n",
    "    \"\"\"\n",
    "    print(f'''Order Statistics:\n",
    "Total Products Ordered: {statistics_tuple[0]}\n",
    "Percentage of Products Ordered: {statistics_tuple[1]}% ''')\n",
    "\n",
    "def print_updated_inventory(inventory):\n",
    "    \"\"\"Inside the function, implement the code for printing the updated inventory.\"\"\"\n",
    "    print(f'The inventory after customer purchase is :{inventory}')\n",
    "    "
   ]
  },
  {
   "cell_type": "code",
   "execution_count": null,
   "id": "7fab028a",
   "metadata": {},
   "outputs": [],
   "source": []
  }
 ],
 "metadata": {
  "kernelspec": {
   "display_name": "Python 3 (ipykernel)",
   "language": "python",
   "name": "python3"
  },
  "language_info": {
   "codemirror_mode": {
    "name": "ipython",
    "version": 3
   },
   "file_extension": ".py",
   "mimetype": "text/x-python",
   "name": "python",
   "nbconvert_exporter": "python",
   "pygments_lexer": "ipython3",
   "version": "3.11.5"
  }
 },
 "nbformat": 4,
 "nbformat_minor": 5
}
